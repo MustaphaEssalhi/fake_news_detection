{
 "cells": [
  {
   "cell_type": "markdown",
   "id": "073b842f",
   "metadata": {
    "papermill": {
     "duration": 0.009059,
     "end_time": "2025-04-28T22:17:53.116288",
     "exception": false,
     "start_time": "2025-04-28T22:17:53.107229",
     "status": "completed"
    },
    "tags": []
   },
   "source": [
    "# Modèle de Détection de Fake News par Réseau LSTM Bidirectionnel"
   ]
  },
  {
   "cell_type": "markdown",
   "id": "7c027ddf",
   "metadata": {
    "papermill": {
     "duration": 0.005905,
     "end_time": "2025-04-28T22:17:53.128869",
     "exception": false,
     "start_time": "2025-04-28T22:17:53.122964",
     "status": "completed"
    },
    "tags": []
   },
   "source": [
    "Ce notebook implémente un modèle de détection de fake news basé sur un réseau LSTM (Long Short-Term Memory) en utilisant le dataset WELFake. L'objectif est de classifier les articles comme étant \"fake\" (1) ou \"réels\" (0) en analysant leur contenu textuel."
   ]
  },
  {
   "cell_type": "markdown",
   "id": "2285c61a",
   "metadata": {
    "papermill": {
     "duration": 0.005859,
     "end_time": "2025-04-28T22:17:53.142420",
     "exception": false,
     "start_time": "2025-04-28T22:17:53.136561",
     "status": "completed"
    },
    "tags": []
   },
   "source": [
    "## Étapes principales :\n",
    "1. **Chargement et exploration des données** : Analyse du dataset WELFake.\n",
    "2. **Prétraitement** : Nettoyage des textes, tokenisation, padding.\n",
    "3. **Modèle LSTM** : Construction et entraînement du modèle.\n",
    "4. **Évaluation** : Analyse des performances avec des métriques comme la précision, le rappel et le F1-score.\n",
    "5. **Démonstration** : Prédiction sur de nouveaux textes."
   ]
  },
  {
   "cell_type": "code",
   "execution_count": 1,
   "id": "26a61113",
   "metadata": {
    "execution": {
     "iopub.execute_input": "2025-04-28T22:17:53.156514Z",
     "iopub.status.busy": "2025-04-28T22:17:53.156141Z",
     "iopub.status.idle": "2025-04-28T22:18:15.738205Z",
     "shell.execute_reply": "2025-04-28T22:18:15.737102Z"
    },
    "papermill": {
     "duration": 22.591394,
     "end_time": "2025-04-28T22:18:15.740107",
     "exception": false,
     "start_time": "2025-04-28T22:17:53.148713",
     "status": "completed"
    },
    "tags": []
   },
   "outputs": [
    {
     "name": "stderr",
     "output_type": "stream",
     "text": [
      "2025-04-28 22:17:59.057069: E external/local_xla/xla/stream_executor/cuda/cuda_fft.cc:477] Unable to register cuFFT factory: Attempting to register factory for plugin cuFFT when one has already been registered\n",
      "WARNING: All log messages before absl::InitializeLog() is called are written to STDERR\n",
      "E0000 00:00:1745878679.335808      13 cuda_dnn.cc:8310] Unable to register cuDNN factory: Attempting to register factory for plugin cuDNN when one has already been registered\n",
      "E0000 00:00:1745878679.410735      13 cuda_blas.cc:1418] Unable to register cuBLAS factory: Attempting to register factory for plugin cuBLAS when one has already been registered\n"
     ]
    }
   ],
   "source": [
    "import pandas as pd\n",
    "import numpy as np\n",
    "import matplotlib.pyplot as plt\n",
    "import seaborn as sns\n",
    "import tensorflow as tf\n",
    "from sklearn.model_selection import train_test_split\n",
    "from tensorflow.keras.preprocessing.text import Tokenizer\n",
    "from keras.preprocessing.sequence import pad_sequences\n",
    "from keras.models import Sequential\n",
    "from keras.layers import LSTM, Embedding, Dense, Dropout, SpatialDropout1D\n",
    "from keras.callbacks import EarlyStopping\n",
    "from tensorflow.keras.metrics import Precision, Recall, AUC, BinaryAccuracy\n",
    "import nltk\n",
    "from nltk.corpus import stopwords\n",
    "from nltk.stem import WordNetLemmatizer\n",
    "import re\n",
    "import random\n",
    "import os\n",
    "from tensorflow.keras.utils import plot_model"
   ]
  },
  {
   "cell_type": "code",
   "execution_count": 2,
   "id": "88b901dc",
   "metadata": {
    "execution": {
     "iopub.execute_input": "2025-04-28T22:18:15.754875Z",
     "iopub.status.busy": "2025-04-28T22:18:15.754292Z",
     "iopub.status.idle": "2025-04-28T22:18:15.760283Z",
     "shell.execute_reply": "2025-04-28T22:18:15.759154Z"
    },
    "papermill": {
     "duration": 0.014924,
     "end_time": "2025-04-28T22:18:15.762049",
     "exception": false,
     "start_time": "2025-04-28T22:18:15.747125",
     "status": "completed"
    },
    "tags": []
   },
   "outputs": [],
   "source": [
    "random.seed(42)\n",
    "np.random.seed(42)\n",
    "tf.random.set_seed(42)"
   ]
  },
  {
   "cell_type": "code",
   "execution_count": 3,
   "id": "d4fde519",
   "metadata": {
    "execution": {
     "iopub.execute_input": "2025-04-28T22:18:15.776336Z",
     "iopub.status.busy": "2025-04-28T22:18:15.775948Z",
     "iopub.status.idle": "2025-04-28T22:18:15.901327Z",
     "shell.execute_reply": "2025-04-28T22:18:15.899997Z"
    },
    "papermill": {
     "duration": 0.134502,
     "end_time": "2025-04-28T22:18:15.903047",
     "exception": false,
     "start_time": "2025-04-28T22:18:15.768545",
     "status": "completed"
    },
    "tags": []
   },
   "outputs": [
    {
     "name": "stderr",
     "output_type": "stream",
     "text": [
      "[nltk_data] Downloading package stopwords to /usr/share/nltk_data...\n",
      "[nltk_data]   Package stopwords is already up-to-date!\n",
      "[nltk_data] Downloading package wordnet to /usr/share/nltk_data...\n",
      "[nltk_data]   Package wordnet is already up-to-date!\n"
     ]
    }
   ],
   "source": [
    "nltk.download(['stopwords', 'wordnet'])\n",
    "stop_words = set(stopwords.words('english')) - {'not', 'no'}\n",
    "lemmatizer = WordNetLemmatizer()"
   ]
  },
  {
   "cell_type": "markdown",
   "id": "284a0b7c",
   "metadata": {
    "papermill": {
     "duration": 0.006172,
     "end_time": "2025-04-28T22:18:15.915681",
     "exception": false,
     "start_time": "2025-04-28T22:18:15.909509",
     "status": "completed"
    },
    "tags": []
   },
   "source": [
    "# GPU setup"
   ]
  },
  {
   "cell_type": "code",
   "execution_count": 4,
   "id": "500ed950",
   "metadata": {
    "execution": {
     "iopub.execute_input": "2025-04-28T22:18:15.930331Z",
     "iopub.status.busy": "2025-04-28T22:18:15.929963Z",
     "iopub.status.idle": "2025-04-28T22:18:15.938986Z",
     "shell.execute_reply": "2025-04-28T22:18:15.937908Z"
    },
    "papermill": {
     "duration": 0.018791,
     "end_time": "2025-04-28T22:18:15.941002",
     "exception": false,
     "start_time": "2025-04-28T22:18:15.922211",
     "status": "completed"
    },
    "tags": []
   },
   "outputs": [
    {
     "name": "stdout",
     "output_type": "stream",
     "text": [
      "No GPU detected, falling back to CPU\n"
     ]
    },
    {
     "name": "stderr",
     "output_type": "stream",
     "text": [
      "2025-04-28 22:18:15.934109: E external/local_xla/xla/stream_executor/cuda/cuda_driver.cc:152] failed call to cuInit: INTERNAL: CUDA error: Failed call to cuInit: UNKNOWN ERROR (303)\n"
     ]
    }
   ],
   "source": [
    "# GPU setup\n",
    "physical_devices = tf.config.list_physical_devices('GPU')\n",
    "if physical_devices:\n",
    "    tf.config.experimental.set_memory_growth(physical_devices[0], True)\n",
    "    print(\"GPU detected and configured:\", physical_devices)\n",
    "else:\n",
    "    print(\"No GPU detected, falling back to CPU\")\n"
   ]
  },
  {
   "cell_type": "markdown",
   "id": "0273057d",
   "metadata": {
    "papermill": {
     "duration": 0.006777,
     "end_time": "2025-04-28T22:18:15.954338",
     "exception": false,
     "start_time": "2025-04-28T22:18:15.947561",
     "status": "completed"
    },
    "tags": []
   },
   "source": [
    "# Chargement des données"
   ]
  },
  {
   "cell_type": "code",
   "execution_count": 5,
   "id": "4f994d3a",
   "metadata": {
    "execution": {
     "iopub.execute_input": "2025-04-28T22:18:15.969152Z",
     "iopub.status.busy": "2025-04-28T22:18:15.968675Z",
     "iopub.status.idle": "2025-04-28T22:18:20.806102Z",
     "shell.execute_reply": "2025-04-28T22:18:20.804910Z"
    },
    "papermill": {
     "duration": 4.846912,
     "end_time": "2025-04-28T22:18:20.808109",
     "exception": false,
     "start_time": "2025-04-28T22:18:15.961197",
     "status": "completed"
    },
    "tags": []
   },
   "outputs": [
    {
     "data": {
      "text/plain": [
       "(72134, 3)"
      ]
     },
     "execution_count": 5,
     "metadata": {},
     "output_type": "execute_result"
    }
   ],
   "source": [
    "data = pd.read_parquet(\"hf://datasets/davanstrien/WELFake/data/train-00000-of-00001-290868f0a36350c5.parquet\")\n",
    "data.shape"
   ]
  },
  {
   "cell_type": "code",
   "execution_count": 6,
   "id": "d93e7e1d",
   "metadata": {
    "execution": {
     "iopub.execute_input": "2025-04-28T22:18:20.831123Z",
     "iopub.status.busy": "2025-04-28T22:18:20.830182Z",
     "iopub.status.idle": "2025-04-28T22:18:20.857370Z",
     "shell.execute_reply": "2025-04-28T22:18:20.856375Z"
    },
    "papermill": {
     "duration": 0.040867,
     "end_time": "2025-04-28T22:18:20.859843",
     "exception": false,
     "start_time": "2025-04-28T22:18:20.818976",
     "status": "completed"
    },
    "tags": []
   },
   "outputs": [
    {
     "data": {
      "text/html": [
       "<div>\n",
       "<style scoped>\n",
       "    .dataframe tbody tr th:only-of-type {\n",
       "        vertical-align: middle;\n",
       "    }\n",
       "\n",
       "    .dataframe tbody tr th {\n",
       "        vertical-align: top;\n",
       "    }\n",
       "\n",
       "    .dataframe thead th {\n",
       "        text-align: right;\n",
       "    }\n",
       "</style>\n",
       "<table border=\"1\" class=\"dataframe\">\n",
       "  <thead>\n",
       "    <tr style=\"text-align: right;\">\n",
       "      <th></th>\n",
       "      <th>title</th>\n",
       "      <th>text</th>\n",
       "      <th>label</th>\n",
       "    </tr>\n",
       "  </thead>\n",
       "  <tbody>\n",
       "    <tr>\n",
       "      <th>0</th>\n",
       "      <td>LAW ENFORCEMENT ON HIGH ALERT Following Threat...</td>\n",
       "      <td>No comment is expected from Barack Obama Membe...</td>\n",
       "      <td>1</td>\n",
       "    </tr>\n",
       "    <tr>\n",
       "      <th>1</th>\n",
       "      <td>None</td>\n",
       "      <td>Did they post their votes for Hillary already?</td>\n",
       "      <td>1</td>\n",
       "    </tr>\n",
       "    <tr>\n",
       "      <th>2</th>\n",
       "      <td>UNBELIEVABLE! OBAMA’S ATTORNEY GENERAL SAYS MO...</td>\n",
       "      <td>Now, most of the demonstrators gathered last ...</td>\n",
       "      <td>1</td>\n",
       "    </tr>\n",
       "    <tr>\n",
       "      <th>3</th>\n",
       "      <td>Bobby Jindal, raised Hindu, uses story of Chri...</td>\n",
       "      <td>A dozen politically active pastors came here f...</td>\n",
       "      <td>0</td>\n",
       "    </tr>\n",
       "    <tr>\n",
       "      <th>4</th>\n",
       "      <td>SATAN 2: Russia unvelis an image of its terrif...</td>\n",
       "      <td>The RS-28 Sarmat missile, dubbed Satan 2, will...</td>\n",
       "      <td>1</td>\n",
       "    </tr>\n",
       "  </tbody>\n",
       "</table>\n",
       "</div>"
      ],
      "text/plain": [
       "                                               title  \\\n",
       "0  LAW ENFORCEMENT ON HIGH ALERT Following Threat...   \n",
       "1                                               None   \n",
       "2  UNBELIEVABLE! OBAMA’S ATTORNEY GENERAL SAYS MO...   \n",
       "3  Bobby Jindal, raised Hindu, uses story of Chri...   \n",
       "4  SATAN 2: Russia unvelis an image of its terrif...   \n",
       "\n",
       "                                                text  label  \n",
       "0  No comment is expected from Barack Obama Membe...      1  \n",
       "1     Did they post their votes for Hillary already?      1  \n",
       "2   Now, most of the demonstrators gathered last ...      1  \n",
       "3  A dozen politically active pastors came here f...      0  \n",
       "4  The RS-28 Sarmat missile, dubbed Satan 2, will...      1  "
      ]
     },
     "execution_count": 6,
     "metadata": {},
     "output_type": "execute_result"
    }
   ],
   "source": [
    "data.head()"
   ]
  },
  {
   "cell_type": "code",
   "execution_count": 7,
   "id": "fcb52115",
   "metadata": {
    "execution": {
     "iopub.execute_input": "2025-04-28T22:18:20.881040Z",
     "iopub.status.busy": "2025-04-28T22:18:20.880622Z",
     "iopub.status.idle": "2025-04-28T22:18:20.904525Z",
     "shell.execute_reply": "2025-04-28T22:18:20.903435Z"
    },
    "papermill": {
     "duration": 0.035311,
     "end_time": "2025-04-28T22:18:20.906734",
     "exception": false,
     "start_time": "2025-04-28T22:18:20.871423",
     "status": "completed"
    },
    "tags": []
   },
   "outputs": [
    {
     "data": {
      "text/html": [
       "<div>\n",
       "<style scoped>\n",
       "    .dataframe tbody tr th:only-of-type {\n",
       "        vertical-align: middle;\n",
       "    }\n",
       "\n",
       "    .dataframe tbody tr th {\n",
       "        vertical-align: top;\n",
       "    }\n",
       "\n",
       "    .dataframe thead th {\n",
       "        text-align: right;\n",
       "    }\n",
       "</style>\n",
       "<table border=\"1\" class=\"dataframe\">\n",
       "  <thead>\n",
       "    <tr style=\"text-align: right;\">\n",
       "      <th></th>\n",
       "      <th>text</th>\n",
       "      <th>label</th>\n",
       "    </tr>\n",
       "  </thead>\n",
       "  <tbody>\n",
       "    <tr>\n",
       "      <th>0</th>\n",
       "      <td>No comment is expected from Barack Obama Membe...</td>\n",
       "      <td>1</td>\n",
       "    </tr>\n",
       "    <tr>\n",
       "      <th>1</th>\n",
       "      <td>Did they post their votes for Hillary already?</td>\n",
       "      <td>1</td>\n",
       "    </tr>\n",
       "    <tr>\n",
       "      <th>2</th>\n",
       "      <td>Now, most of the demonstrators gathered last ...</td>\n",
       "      <td>1</td>\n",
       "    </tr>\n",
       "    <tr>\n",
       "      <th>3</th>\n",
       "      <td>A dozen politically active pastors came here f...</td>\n",
       "      <td>0</td>\n",
       "    </tr>\n",
       "    <tr>\n",
       "      <th>4</th>\n",
       "      <td>The RS-28 Sarmat missile, dubbed Satan 2, will...</td>\n",
       "      <td>1</td>\n",
       "    </tr>\n",
       "  </tbody>\n",
       "</table>\n",
       "</div>"
      ],
      "text/plain": [
       "                                                text  label\n",
       "0  No comment is expected from Barack Obama Membe...      1\n",
       "1     Did they post their votes for Hillary already?      1\n",
       "2   Now, most of the demonstrators gathered last ...      1\n",
       "3  A dozen politically active pastors came here f...      0\n",
       "4  The RS-28 Sarmat missile, dubbed Satan 2, will...      1"
      ]
     },
     "execution_count": 7,
     "metadata": {},
     "output_type": "execute_result"
    }
   ],
   "source": [
    "data = data[['text', 'label']]\n",
    "data.head()"
   ]
  },
  {
   "cell_type": "code",
   "execution_count": 8,
   "id": "e14ed07e",
   "metadata": {
    "execution": {
     "iopub.execute_input": "2025-04-28T22:18:20.929589Z",
     "iopub.status.busy": "2025-04-28T22:18:20.929201Z",
     "iopub.status.idle": "2025-04-28T22:18:20.960788Z",
     "shell.execute_reply": "2025-04-28T22:18:20.959629Z"
    },
    "papermill": {
     "duration": 0.043231,
     "end_time": "2025-04-28T22:18:20.962411",
     "exception": false,
     "start_time": "2025-04-28T22:18:20.919180",
     "status": "completed"
    },
    "tags": []
   },
   "outputs": [
    {
     "name": "stdout",
     "output_type": "stream",
     "text": [
      "<class 'pandas.core.frame.DataFrame'>\n",
      "RangeIndex: 72134 entries, 0 to 72133\n",
      "Data columns (total 2 columns):\n",
      " #   Column  Non-Null Count  Dtype \n",
      "---  ------  --------------  ----- \n",
      " 0   text    72095 non-null  object\n",
      " 1   label   72134 non-null  int64 \n",
      "dtypes: int64(1), object(1)\n",
      "memory usage: 1.1+ MB\n"
     ]
    }
   ],
   "source": [
    "data.info()"
   ]
  },
  {
   "cell_type": "code",
   "execution_count": 9,
   "id": "a5fd9c9d",
   "metadata": {
    "execution": {
     "iopub.execute_input": "2025-04-28T22:18:20.978860Z",
     "iopub.status.busy": "2025-04-28T22:18:20.978547Z",
     "iopub.status.idle": "2025-04-28T22:18:21.025452Z",
     "shell.execute_reply": "2025-04-28T22:18:21.024397Z"
    },
    "papermill": {
     "duration": 0.057397,
     "end_time": "2025-04-28T22:18:21.027073",
     "exception": false,
     "start_time": "2025-04-28T22:18:20.969676",
     "status": "completed"
    },
    "tags": []
   },
   "outputs": [
    {
     "name": "stdout",
     "output_type": "stream",
     "text": [
      "<class 'pandas.core.frame.DataFrame'>\n",
      "Index: 72095 entries, 0 to 72133\n",
      "Data columns (total 2 columns):\n",
      " #   Column  Non-Null Count  Dtype \n",
      "---  ------  --------------  ----- \n",
      " 0   text    72095 non-null  object\n",
      " 1   label   72095 non-null  int64 \n",
      "dtypes: int64(1), object(1)\n",
      "memory usage: 1.7+ MB\n"
     ]
    }
   ],
   "source": [
    "data = data.dropna(subset=['text'])  # Remove rows where 'text' is None\n",
    "data.info()"
   ]
  },
  {
   "cell_type": "code",
   "execution_count": 10,
   "id": "dc42f059",
   "metadata": {
    "execution": {
     "iopub.execute_input": "2025-04-28T22:18:21.043536Z",
     "iopub.status.busy": "2025-04-28T22:18:21.043229Z",
     "iopub.status.idle": "2025-04-28T22:35:47.463164Z",
     "shell.execute_reply": "2025-04-28T22:35:47.461650Z"
    },
    "papermill": {
     "duration": 1046.431062,
     "end_time": "2025-04-28T22:35:47.465804",
     "exception": false,
     "start_time": "2025-04-28T22:18:21.034742",
     "status": "completed"
    },
    "tags": []
   },
   "outputs": [
    {
     "name": "stdout",
     "output_type": "stream",
     "text": [
      "Collecting googletrans==4.0.0-rc1\r\n",
      "  Downloading googletrans-4.0.0rc1.tar.gz (20 kB)\r\n",
      "  Preparing metadata (setup.py) ... \u001b[?25l\u001b[?25hdone\r\n",
      "Collecting httpx==0.13.3 (from googletrans==4.0.0-rc1)\r\n",
      "  Downloading httpx-0.13.3-py3-none-any.whl.metadata (25 kB)\r\n",
      "Requirement already satisfied: certifi in /usr/local/lib/python3.11/dist-packages (from httpx==0.13.3->googletrans==4.0.0-rc1) (2025.1.31)\r\n",
      "Collecting hstspreload (from httpx==0.13.3->googletrans==4.0.0-rc1)\r\n",
      "  Downloading hstspreload-2025.1.1-py3-none-any.whl.metadata (2.1 kB)\r\n",
      "Requirement already satisfied: sniffio in /usr/local/lib/python3.11/dist-packages (from httpx==0.13.3->googletrans==4.0.0-rc1) (1.3.1)\r\n",
      "Collecting chardet==3.* (from httpx==0.13.3->googletrans==4.0.0-rc1)\r\n",
      "  Downloading chardet-3.0.4-py2.py3-none-any.whl.metadata (3.2 kB)\r\n",
      "Collecting idna==2.* (from httpx==0.13.3->googletrans==4.0.0-rc1)\r\n",
      "  Downloading idna-2.10-py2.py3-none-any.whl.metadata (9.1 kB)\r\n",
      "Collecting rfc3986<2,>=1.3 (from httpx==0.13.3->googletrans==4.0.0-rc1)\r\n",
      "  Downloading rfc3986-1.5.0-py2.py3-none-any.whl.metadata (6.5 kB)\r\n",
      "Collecting httpcore==0.9.* (from httpx==0.13.3->googletrans==4.0.0-rc1)\r\n",
      "  Downloading httpcore-0.9.1-py3-none-any.whl.metadata (4.6 kB)\r\n",
      "Collecting h11<0.10,>=0.8 (from httpcore==0.9.*->httpx==0.13.3->googletrans==4.0.0-rc1)\r\n",
      "  Downloading h11-0.9.0-py2.py3-none-any.whl.metadata (8.1 kB)\r\n",
      "Collecting h2==3.* (from httpcore==0.9.*->httpx==0.13.3->googletrans==4.0.0-rc1)\r\n",
      "  Downloading h2-3.2.0-py2.py3-none-any.whl.metadata (32 kB)\r\n",
      "Collecting hyperframe<6,>=5.2.0 (from h2==3.*->httpcore==0.9.*->httpx==0.13.3->googletrans==4.0.0-rc1)\r\n",
      "  Downloading hyperframe-5.2.0-py2.py3-none-any.whl.metadata (7.2 kB)\r\n",
      "Collecting hpack<4,>=3.0 (from h2==3.*->httpcore==0.9.*->httpx==0.13.3->googletrans==4.0.0-rc1)\r\n",
      "  Downloading hpack-3.0.0-py2.py3-none-any.whl.metadata (7.0 kB)\r\n",
      "Downloading httpx-0.13.3-py3-none-any.whl (55 kB)\r\n",
      "\u001b[2K   \u001b[90m━━━━━━━━━━━━━━━━━━━━━━━━━━━━━━━━━━━━━━━━\u001b[0m \u001b[32m55.1/55.1 kB\u001b[0m \u001b[31m2.3 MB/s\u001b[0m eta \u001b[36m0:00:00\u001b[0m\r\n",
      "\u001b[?25hDownloading chardet-3.0.4-py2.py3-none-any.whl (133 kB)\r\n",
      "\u001b[2K   \u001b[90m━━━━━━━━━━━━━━━━━━━━━━━━━━━━━━━━━━━━━━━━\u001b[0m \u001b[32m133.4/133.4 kB\u001b[0m \u001b[31m6.6 MB/s\u001b[0m eta \u001b[36m0:00:00\u001b[0m\r\n",
      "\u001b[?25hDownloading httpcore-0.9.1-py3-none-any.whl (42 kB)\r\n",
      "\u001b[2K   \u001b[90m━━━━━━━━━━━━━━━━━━━━━━━━━━━━━━━━━━━━━━━━\u001b[0m \u001b[32m42.6/42.6 kB\u001b[0m \u001b[31m2.3 MB/s\u001b[0m eta \u001b[36m0:00:00\u001b[0m\r\n",
      "\u001b[?25hDownloading idna-2.10-py2.py3-none-any.whl (58 kB)\r\n",
      "\u001b[2K   \u001b[90m━━━━━━━━━━━━━━━━━━━━━━━━━━━━━━━━━━━━━━━━\u001b[0m \u001b[32m58.8/58.8 kB\u001b[0m \u001b[31m3.7 MB/s\u001b[0m eta \u001b[36m0:00:00\u001b[0m\r\n",
      "\u001b[?25hDownloading h2-3.2.0-py2.py3-none-any.whl (65 kB)\r\n",
      "\u001b[2K   \u001b[90m━━━━━━━━━━━━━━━━━━━━━━━━━━━━━━━━━━━━━━━━\u001b[0m \u001b[32m65.0/65.0 kB\u001b[0m \u001b[31m3.7 MB/s\u001b[0m eta \u001b[36m0:00:00\u001b[0m\r\n",
      "\u001b[?25hDownloading rfc3986-1.5.0-py2.py3-none-any.whl (31 kB)\r\n",
      "Downloading hstspreload-2025.1.1-py3-none-any.whl (1.3 MB)\r\n",
      "\u001b[2K   \u001b[90m━━━━━━━━━━━━━━━━━━━━━━━━━━━━━━━━━━━━━━━━\u001b[0m \u001b[32m1.3/1.3 MB\u001b[0m \u001b[31m43.0 MB/s\u001b[0m eta \u001b[36m0:00:00\u001b[0m\r\n",
      "\u001b[?25hDownloading h11-0.9.0-py2.py3-none-any.whl (53 kB)\r\n",
      "\u001b[2K   \u001b[90m━━━━━━━━━━━━━━━━━━━━━━━━━━━━━━━━━━━━━━━━\u001b[0m \u001b[32m53.6/53.6 kB\u001b[0m \u001b[31m2.8 MB/s\u001b[0m eta \u001b[36m0:00:00\u001b[0m\r\n",
      "\u001b[?25hDownloading hpack-3.0.0-py2.py3-none-any.whl (38 kB)\r\n",
      "Downloading hyperframe-5.2.0-py2.py3-none-any.whl (12 kB)\r\n",
      "Building wheels for collected packages: googletrans\r\n",
      "  Building wheel for googletrans (setup.py) ... \u001b[?25l\u001b[?25hdone\r\n",
      "  Created wheel for googletrans: filename=googletrans-4.0.0rc1-py3-none-any.whl size=17397 sha256=657c990994c88f39cb051f515cdbbe7beb571ce664c01f1dd7716dc24887d8f9\r\n",
      "  Stored in directory: /root/.cache/pip/wheels/39/17/6f/66a045ea3d168826074691b4b787b8f324d3f646d755443fda\r\n",
      "Successfully built googletrans\r\n",
      "Installing collected packages: rfc3986, hyperframe, hpack, h11, chardet, idna, hstspreload, h2, httpcore, httpx, googletrans\r\n",
      "  Attempting uninstall: hyperframe\r\n",
      "    Found existing installation: hyperframe 6.1.0\r\n",
      "    Uninstalling hyperframe-6.1.0:\r\n",
      "      Successfully uninstalled hyperframe-6.1.0\r\n",
      "  Attempting uninstall: hpack\r\n",
      "    Found existing installation: hpack 4.1.0\r\n",
      "    Uninstalling hpack-4.1.0:\r\n",
      "      Successfully uninstalled hpack-4.1.0\r\n",
      "  Attempting uninstall: h11\r\n",
      "    Found existing installation: h11 0.14.0\r\n",
      "    Uninstalling h11-0.14.0:\r\n",
      "      Successfully uninstalled h11-0.14.0\r\n",
      "  Attempting uninstall: chardet\r\n",
      "    Found existing installation: chardet 5.2.0\r\n",
      "    Uninstalling chardet-5.2.0:\r\n",
      "      Successfully uninstalled chardet-5.2.0\r\n",
      "  Attempting uninstall: idna\r\n",
      "    Found existing installation: idna 3.10\r\n",
      "    Uninstalling idna-3.10:\r\n",
      "      Successfully uninstalled idna-3.10\r\n",
      "  Attempting uninstall: h2\r\n",
      "    Found existing installation: h2 4.2.0\r\n",
      "    Uninstalling h2-4.2.0:\r\n",
      "      Successfully uninstalled h2-4.2.0\r\n",
      "  Attempting uninstall: httpcore\r\n",
      "    Found existing installation: httpcore 1.0.7\r\n",
      "    Uninstalling httpcore-1.0.7:\r\n",
      "      Successfully uninstalled httpcore-1.0.7\r\n",
      "  Attempting uninstall: httpx\r\n",
      "    Found existing installation: httpx 0.28.1\r\n",
      "    Uninstalling httpx-0.28.1:\r\n",
      "      Successfully uninstalled httpx-0.28.1\r\n",
      "\u001b[31mERROR: pip's dependency resolver does not currently take into account all the packages that are installed. This behaviour is the source of the following dependency conflicts.\r\n",
      "sigstore 3.6.1 requires rich~=13.0, but you have rich 14.0.0 which is incompatible.\r\n",
      "datasets 3.5.0 requires fsspec[http]<=2024.12.0,>=2023.1.0, but you have fsspec 2025.3.2 which is incompatible.\r\n",
      "nilearn 0.11.1 requires scikit-learn>=1.4.0, but you have scikit-learn 1.2.2 which is incompatible.\r\n",
      "google-colab 1.0.0 requires notebook==6.5.5, but you have notebook 6.5.4 which is incompatible.\r\n",
      "google-colab 1.0.0 requires pandas==2.2.2, but you have pandas 2.2.3 which is incompatible.\r\n",
      "openai 1.61.1 requires httpx<1,>=0.23.0, but you have httpx 0.13.3 which is incompatible.\r\n",
      "google-spark-connect 0.5.2 requires google-api-core>=2.19.1, but you have google-api-core 1.34.1 which is incompatible.\r\n",
      "pandas-gbq 0.26.1 requires google-api-core<3.0.0dev,>=2.10.2, but you have google-api-core 1.34.1 which is incompatible.\r\n",
      "gcsfs 2024.10.0 requires fsspec==2024.10.0, but you have fsspec 2025.3.2 which is incompatible.\r\n",
      "bigframes 1.36.0 requires rich<14,>=12.4.4, but you have rich 14.0.0 which is incompatible.\r\n",
      "langsmith 0.3.8 requires httpx<1,>=0.23.0, but you have httpx 0.13.3 which is incompatible.\r\n",
      "google-cloud-bigtable 2.28.1 requires google-api-core[grpc]<3.0.0dev,>=2.16.0, but you have google-api-core 1.34.1 which is incompatible.\u001b[0m\u001b[31m\r\n",
      "\u001b[0mSuccessfully installed chardet-3.0.4 googletrans-4.0.0rc1 h11-0.9.0 h2-3.2.0 hpack-3.0.0 hstspreload-2025.1.1 httpcore-0.9.1 httpx-0.13.3 hyperframe-5.2.0 idna-2.10 rfc3986-1.5.0\r\n",
      "Collecting langdetect\r\n",
      "  Downloading langdetect-1.0.9.tar.gz (981 kB)\r\n",
      "\u001b[2K     \u001b[90m━━━━━━━━━━━━━━━━━━━━━━━━━━━━━━━━━━━━━━━━\u001b[0m \u001b[32m981.5/981.5 kB\u001b[0m \u001b[31m23.3 MB/s\u001b[0m eta \u001b[36m0:00:00\u001b[0m\r\n",
      "\u001b[?25h  Preparing metadata (setup.py) ... \u001b[?25l\u001b[?25hdone\r\n",
      "Requirement already satisfied: six in /usr/local/lib/python3.11/dist-packages (from langdetect) (1.17.0)\r\n",
      "Building wheels for collected packages: langdetect\r\n",
      "  Building wheel for langdetect (setup.py) ... \u001b[?25l\u001b[?25hdone\r\n",
      "  Created wheel for langdetect: filename=langdetect-1.0.9-py3-none-any.whl size=993222 sha256=71193a0570cfaea4b40a4a7777616504e2437f6c31f5509b59223e9eb29f9bfa\r\n",
      "  Stored in directory: /root/.cache/pip/wheels/0a/f2/b2/e5ca405801e05eb7c8ed5b3b4bcf1fcabcd6272c167640072e\r\n",
      "Successfully built langdetect\r\n",
      "Installing collected packages: langdetect\r\n",
      "Successfully installed langdetect-1.0.9\r\n"
     ]
    }
   ],
   "source": [
    "!pip install googletrans==4.0.0-rc1\n",
    "!pip install langdetect\n",
    "\n",
    "from googletrans import Translator\n",
    "from langdetect import detect\n",
    "import re\n",
    "import nltk\n",
    "from nltk.corpus import stopwords\n",
    "from nltk.stem import WordNetLemmatizer\n",
    "\n",
    "# Initialize translator\n",
    "translator = Translator()\n",
    "\n",
    "def translate_to_english(text):\n",
    "    try:\n",
    "        if detect(text) != 'en':\n",
    "            translated = translator.translate(text, dest='en')\n",
    "            return translated.text\n",
    "        return text\n",
    "    except:\n",
    "        return text  # Fallback if translation fails\n",
    "\n",
    "def clean_text(text):\n",
    "    # Translate non-English text first\n",
    "    text = translate_to_english(text)\n",
    "    \n",
    "    # Standard cleaning\n",
    "    text = re.sub(r'[^a-zA-Z0-9\\s]', '', text)\n",
    "    text = text.lower()\n",
    "    words = text.split()\n",
    "    \n",
    "    # Remove stopwords (keeping 'not' and 'no' for sentiment)\n",
    "    stop_words = set(stopwords.words('english')) - {'not', 'no'}\n",
    "    words = [word for word in words if word not in stop_words]\n",
    "    \n",
    "    # Lemmatization\n",
    "    lemmatizer = WordNetLemmatizer()\n",
    "    words = [lemmatizer.lemmatize(word) for word in words]\n",
    "    \n",
    "    return ' '.join(words)\n",
    "\n",
    "# Apply to dataset\n",
    "data['text'] = data['text'].apply(clean_text)"
   ]
  },
  {
   "cell_type": "code",
   "execution_count": 11,
   "id": "6cfa6bf8",
   "metadata": {
    "execution": {
     "iopub.execute_input": "2025-04-28T22:35:47.489147Z",
     "iopub.status.busy": "2025-04-28T22:35:47.488186Z",
     "iopub.status.idle": "2025-04-28T22:35:47.513801Z",
     "shell.execute_reply": "2025-04-28T22:35:47.512524Z"
    },
    "papermill": {
     "duration": 0.038982,
     "end_time": "2025-04-28T22:35:47.515470",
     "exception": false,
     "start_time": "2025-04-28T22:35:47.476488",
     "status": "completed"
    },
    "tags": []
   },
   "outputs": [
    {
     "name": "stdout",
     "output_type": "stream",
     "text": [
      "<class 'pandas.core.frame.DataFrame'>\n",
      "Index: 72095 entries, 0 to 72133\n",
      "Data columns (total 2 columns):\n",
      " #   Column  Non-Null Count  Dtype \n",
      "---  ------  --------------  ----- \n",
      " 0   text    72095 non-null  object\n",
      " 1   label   72095 non-null  int64 \n",
      "dtypes: int64(1), object(1)\n",
      "memory usage: 1.7+ MB\n"
     ]
    }
   ],
   "source": [
    "data.info()"
   ]
  },
  {
   "cell_type": "code",
   "execution_count": 12,
   "id": "37059761",
   "metadata": {
    "execution": {
     "iopub.execute_input": "2025-04-28T22:35:47.537066Z",
     "iopub.status.busy": "2025-04-28T22:35:47.536682Z",
     "iopub.status.idle": "2025-04-28T22:35:47.572901Z",
     "shell.execute_reply": "2025-04-28T22:35:47.571817Z"
    },
    "papermill": {
     "duration": 0.049107,
     "end_time": "2025-04-28T22:35:47.574461",
     "exception": false,
     "start_time": "2025-04-28T22:35:47.525354",
     "status": "completed"
    },
    "tags": []
   },
   "outputs": [
    {
     "name": "stdout",
     "output_type": "stream",
     "text": [
      "<class 'pandas.core.frame.DataFrame'>\n",
      "Index: 72095 entries, 0 to 72133\n",
      "Data columns (total 2 columns):\n",
      " #   Column  Non-Null Count  Dtype \n",
      "---  ------  --------------  ----- \n",
      " 0   text    72095 non-null  object\n",
      " 1   label   72095 non-null  int64 \n",
      "dtypes: int64(1), object(1)\n",
      "memory usage: 1.7+ MB\n"
     ]
    }
   ],
   "source": [
    "\n",
    "data = data.dropna()\n",
    "data.info()\n",
    "\n"
   ]
  },
  {
   "cell_type": "markdown",
   "id": "2eae43d8",
   "metadata": {
    "papermill": {
     "duration": 0.01016,
     "end_time": "2025-04-28T22:35:47.664588",
     "exception": false,
     "start_time": "2025-04-28T22:35:47.654428",
     "status": "completed"
    },
    "tags": []
   },
   "source": [
    "# Nettoyage des textes"
   ]
  },
  {
   "cell_type": "code",
   "execution_count": 13,
   "id": "0d43e248",
   "metadata": {
    "execution": {
     "iopub.execute_input": "2025-04-28T22:35:47.686021Z",
     "iopub.status.busy": "2025-04-28T22:35:47.685608Z",
     "iopub.status.idle": "2025-04-28T22:37:23.959660Z",
     "shell.execute_reply": "2025-04-28T22:37:23.958576Z"
    },
    "papermill": {
     "duration": 96.28834,
     "end_time": "2025-04-28T22:37:23.962652",
     "exception": false,
     "start_time": "2025-04-28T22:35:47.674312",
     "status": "completed"
    },
    "tags": []
   },
   "outputs": [],
   "source": [
    "def clean_text(text):\n",
    "    text = re.sub(r'[^a-zA-Z0-9\\s]', '', text)\n",
    "    text = text.lower()\n",
    "    words = text.split()\n",
    "    words = [lemmatizer.lemmatize(word) for word in words if word not in stop_words]\n",
    "    return ' '.join(words)\n",
    "\n",
    "data['text'] = data['text'].apply(clean_text)"
   ]
  },
  {
   "cell_type": "markdown",
   "id": "90a25a1d",
   "metadata": {
    "papermill": {
     "duration": 0.009475,
     "end_time": "2025-04-28T22:37:23.982855",
     "exception": false,
     "start_time": "2025-04-28T22:37:23.973380",
     "status": "completed"
    },
    "tags": []
   },
   "source": [
    "# Visualisation de la répartition des classes"
   ]
  },
  {
   "cell_type": "code",
   "execution_count": 14,
   "id": "3fb093d1",
   "metadata": {
    "execution": {
     "iopub.execute_input": "2025-04-28T22:37:24.003959Z",
     "iopub.status.busy": "2025-04-28T22:37:24.003592Z",
     "iopub.status.idle": "2025-04-28T22:37:24.368125Z",
     "shell.execute_reply": "2025-04-28T22:37:24.367153Z"
    },
    "papermill": {
     "duration": 0.377058,
     "end_time": "2025-04-28T22:37:24.369618",
     "exception": false,
     "start_time": "2025-04-28T22:37:23.992560",
     "status": "completed"
    },
    "tags": []
   },
   "outputs": [
    {
     "data": {
      "image/png": "[encoded data removed]",
      "text/plain": [
       "<Figure size 800x500 with 1 Axes>"
      ]
     },
     "metadata": {},
     "output_type": "display_data"
    }
   ],
   "source": [
    "plt.figure(figsize=(8, 5))\n",
    "sns.countplot(x='label', data=data, palette='Set2')\n",
    "plt.title('Répartition des classes', fontsize=14)\n",
    "plt.xlabel('Label', fontsize=12)\n",
    "plt.ylabel('Nombre', fontsize=12)\n",
    "plt.grid(axis='y', linestyle='--', alpha=0.7)\n",
    "plt.savefig('distribution_label.png')\n",
    "plt.show()"
   ]
  },
  {
   "cell_type": "code",
   "execution_count": 15,
   "id": "be2e513b",
   "metadata": {
    "execution": {
     "iopub.execute_input": "2025-04-28T22:37:24.392171Z",
     "iopub.status.busy": "2025-04-28T22:37:24.391791Z",
     "iopub.status.idle": "2025-04-28T22:37:24.403868Z",
     "shell.execute_reply": "2025-04-28T22:37:24.402810Z"
    },
    "papermill": {
     "duration": 0.025448,
     "end_time": "2025-04-28T22:37:24.405880",
     "exception": false,
     "start_time": "2025-04-28T22:37:24.380432",
     "status": "completed"
    },
    "tags": []
   },
   "outputs": [
    {
     "data": {
      "text/plain": [
       "label\n",
       "1    37067\n",
       "0    35028\n",
       "Name: count, dtype: int64"
      ]
     },
     "execution_count": 15,
     "metadata": {},
     "output_type": "execute_result"
    }
   ],
   "source": [
    "data.label.value_counts()"
   ]
  },
  {
   "cell_type": "markdown",
   "id": "791296ff",
   "metadata": {
    "papermill": {
     "duration": 0.010822,
     "end_time": "2025-04-28T22:37:24.428187",
     "exception": false,
     "start_time": "2025-04-28T22:37:24.417365",
     "status": "completed"
    },
    "tags": []
   },
   "source": [
    "# Tokenisation et padding"
   ]
  },
  {
   "cell_type": "code",
   "execution_count": 16,
   "id": "bc59630a",
   "metadata": {
    "execution": {
     "iopub.execute_input": "2025-04-28T22:37:24.452403Z",
     "iopub.status.busy": "2025-04-28T22:37:24.451608Z",
     "iopub.status.idle": "2025-04-28T22:37:53.382398Z",
     "shell.execute_reply": "2025-04-28T22:37:53.381223Z"
    },
    "papermill": {
     "duration": 28.945285,
     "end_time": "2025-04-28T22:37:53.384470",
     "exception": false,
     "start_time": "2025-04-28T22:37:24.439185",
     "status": "completed"
    },
    "tags": []
   },
   "outputs": [],
   "source": [
    "\n",
    "max_words = 5000\n",
    "max_len = 200\n",
    "tokenizer = Tokenizer(num_words=max_words)\n",
    "tokenizer.fit_on_texts(data['text'])\n",
    "sequences = tokenizer.texts_to_sequences(data['text'])\n",
    "padded_sequences = pad_sequences(sequences, maxlen=max_len, padding='post', truncating='post')\n",
    "\n"
   ]
  },
  {
   "cell_type": "markdown",
   "id": "52c4d9cf",
   "metadata": {
    "papermill": {
     "duration": 0.009967,
     "end_time": "2025-04-28T22:37:53.404998",
     "exception": false,
     "start_time": "2025-04-28T22:37:53.395031",
     "status": "completed"
    },
    "tags": []
   },
   "source": [
    "# Division des données"
   ]
  },
  {
   "cell_type": "code",
   "execution_count": 17,
   "id": "1e4f1194",
   "metadata": {
    "execution": {
     "iopub.execute_input": "2025-04-28T22:37:53.427418Z",
     "iopub.status.busy": "2025-04-28T22:37:53.427099Z",
     "iopub.status.idle": "2025-04-28T22:37:53.475286Z",
     "shell.execute_reply": "2025-04-28T22:37:53.474175Z"
    },
    "papermill": {
     "duration": 0.061626,
     "end_time": "2025-04-28T22:37:53.477035",
     "exception": false,
     "start_time": "2025-04-28T22:37:53.415409",
     "status": "completed"
    },
    "tags": []
   },
   "outputs": [],
   "source": [
    "X_train, X_test, y_train, y_test = train_test_split(padded_sequences, data['label'], test_size=0.2, random_state=42)"
   ]
  },
  {
   "cell_type": "markdown",
   "id": "0a74b0d6",
   "metadata": {
    "papermill": {
     "duration": 0.010215,
     "end_time": "2025-04-28T22:37:53.498839",
     "exception": false,
     "start_time": "2025-04-28T22:37:53.488624",
     "status": "completed"
    },
    "tags": []
   },
   "source": [
    "# Construction du modèle"
   ]
  },
  {
   "cell_type": "code",
   "execution_count": 18,
   "id": "2d1cfef5",
   "metadata": {
    "execution": {
     "iopub.execute_input": "2025-04-28T22:37:53.521370Z",
     "iopub.status.busy": "2025-04-28T22:37:53.520957Z",
     "iopub.status.idle": "2025-04-28T22:37:53.753495Z",
     "shell.execute_reply": "2025-04-28T22:37:53.752299Z"
    },
    "papermill": {
     "duration": 0.246003,
     "end_time": "2025-04-28T22:37:53.755259",
     "exception": false,
     "start_time": "2025-04-28T22:37:53.509256",
     "status": "completed"
    },
    "tags": []
   },
   "outputs": [
    {
     "name": "stderr",
     "output_type": "stream",
     "text": [
      "/usr/local/lib/python3.11/dist-packages/keras/src/layers/core/embedding.py:90: UserWarning: Argument `input_length` is deprecated. Just remove it.\n",
      "  warnings.warn(\n"
     ]
    },
    {
     "data": {
      "text/html": [
       "<pre style=\"white-space:pre;overflow-x:auto;line-height:normal;font-family:Menlo,'DejaVu Sans Mono',consolas,'Courier New',monospace\"><span style=\"font-weight: bold\">Model: \"sequential\"</span>\n",
       "</pre>\n"
      ],
      "text/plain": [
       "\u001b[1mModel: \"sequential\"\u001b[0m\n"
      ]
     },
     "metadata": {},
     "output_type": "display_data"
    },
    {
     "data": {
      "text/html": [
       "<pre style=\"white-space:pre;overflow-x:auto;line-height:normal;font-family:Menlo,'DejaVu Sans Mono',consolas,'Courier New',monospace\">┏━━━━━━━━━━━━━━━━━━━━━━━━━━━━━━━━━━━━━━┳━━━━━━━━━━━━━━━━━━━━━━━━━━━━━┳━━━━━━━━━━━━━━━━━┓\n",
       "┃<span style=\"font-weight: bold\"> Layer (type)                         </span>┃<span style=\"font-weight: bold\"> Output Shape                </span>┃<span style=\"font-weight: bold\">         Param # </span>┃\n",
       "┡━━━━━━━━━━━━━━━━━━━━━━━━━━━━━━━━━━━━━━╇━━━━━━━━━━━━━━━━━━━━━━━━━━━━━╇━━━━━━━━━━━━━━━━━┩\n",
       "│ embedding (<span style=\"color: #0087ff; text-decoration-color: #0087ff\">Embedding</span>)                │ (<span style=\"color: #00d7ff; text-decoration-color: #00d7ff\">None</span>, <span style=\"color: #00af00; text-decoration-color: #00af00\">200</span>, <span style=\"color: #00af00; text-decoration-color: #00af00\">100</span>)            │         <span style=\"color: #00af00; text-decoration-color: #00af00\">500,000</span> │\n",
       "├──────────────────────────────────────┼─────────────────────────────┼─────────────────┤\n",
       "│ spatial_dropout1d (<span style=\"color: #0087ff; text-decoration-color: #0087ff\">SpatialDropout1D</span>) │ (<span style=\"color: #00d7ff; text-decoration-color: #00d7ff\">None</span>, <span style=\"color: #00af00; text-decoration-color: #00af00\">200</span>, <span style=\"color: #00af00; text-decoration-color: #00af00\">100</span>)            │               <span style=\"color: #00af00; text-decoration-color: #00af00\">0</span> │\n",
       "├──────────────────────────────────────┼─────────────────────────────┼─────────────────┤\n",
       "│ lstm (<span style=\"color: #0087ff; text-decoration-color: #0087ff\">LSTM</span>)                          │ (<span style=\"color: #00d7ff; text-decoration-color: #00d7ff\">None</span>, <span style=\"color: #00af00; text-decoration-color: #00af00\">100</span>)                 │          <span style=\"color: #00af00; text-decoration-color: #00af00\">80,400</span> │\n",
       "├──────────────────────────────────────┼─────────────────────────────┼─────────────────┤\n",
       "│ dense (<span style=\"color: #0087ff; text-decoration-color: #0087ff\">Dense</span>)                        │ (<span style=\"color: #00d7ff; text-decoration-color: #00d7ff\">None</span>, <span style=\"color: #00af00; text-decoration-color: #00af00\">1</span>)                   │             <span style=\"color: #00af00; text-decoration-color: #00af00\">101</span> │\n",
       "└──────────────────────────────────────┴─────────────────────────────┴─────────────────┘\n",
       "</pre>\n"
      ],
      "text/plain": [
       "┏━━━━━━━━━━━━━━━━━━━━━━━━━━━━━━━━━━━━━━┳━━━━━━━━━━━━━━━━━━━━━━━━━━━━━┳━━━━━━━━━━━━━━━━━┓\n",
       "┃\u001b[1m \u001b[0m\u001b[1mLayer (type)                        \u001b[0m\u001b[1m \u001b[0m┃\u001b[1m \u001b[0m\u001b[1mOutput Shape               \u001b[0m\u001b[1m \u001b[0m┃\u001b[1m \u001b[0m\u001b[1m        Param #\u001b[0m\u001b[1m \u001b[0m┃\n",
       "┡━━━━━━━━━━━━━━━━━━━━━━━━━━━━━━━━━━━━━━╇━━━━━━━━━━━━━━━━━━━━━━━━━━━━━╇━━━━━━━━━━━━━━━━━┩\n",
       "│ embedding (\u001b[38;5;33mEmbedding\u001b[0m)                │ (\u001b[38;5;45mNone\u001b[0m, \u001b[38;5;34m200\u001b[0m, \u001b[38;5;34m100\u001b[0m)            │         \u001b[38;5;34m500,000\u001b[0m │\n",
       "├──────────────────────────────────────┼─────────────────────────────┼─────────────────┤\n",
       "│ spatial_dropout1d (\u001b[38;5;33mSpatialDropout1D\u001b[0m) │ (\u001b[38;5;45mNone\u001b[0m, \u001b[38;5;34m200\u001b[0m, \u001b[38;5;34m100\u001b[0m)            │               \u001b[38;5;34m0\u001b[0m │\n",
       "├──────────────────────────────────────┼─────────────────────────────┼─────────────────┤\n",
       "│ lstm (\u001b[38;5;33mLSTM\u001b[0m)                          │ (\u001b[38;5;45mNone\u001b[0m, \u001b[38;5;34m100\u001b[0m)                 │          \u001b[38;5;34m80,400\u001b[0m │\n",
       "├──────────────────────────────────────┼─────────────────────────────┼─────────────────┤\n",
       "│ dense (\u001b[38;5;33mDense\u001b[0m)                        │ (\u001b[38;5;45mNone\u001b[0m, \u001b[38;5;34m1\u001b[0m)                   │             \u001b[38;5;34m101\u001b[0m │\n",
       "└──────────────────────────────────────┴─────────────────────────────┴─────────────────┘\n"
      ]
     },
     "metadata": {},
     "output_type": "display_data"
    },
    {
     "data": {
      "text/html": [
       "<pre style=\"white-space:pre;overflow-x:auto;line-height:normal;font-family:Menlo,'DejaVu Sans Mono',consolas,'Courier New',monospace\"><span style=\"font-weight: bold\"> Total params: </span><span style=\"color: #00af00; text-decoration-color: #00af00\">580,501</span> (2.21 MB)\n",
       "</pre>\n"
      ],
      "text/plain": [
       "\u001b[1m Total params: \u001b[0m\u001b[38;5;34m580,501\u001b[0m (2.21 MB)\n"
      ]
     },
     "metadata": {},
     "output_type": "display_data"
    },
    {
     "data": {
      "text/html": [
       "<pre style=\"white-space:pre;overflow-x:auto;line-height:normal;font-family:Menlo,'DejaVu Sans Mono',consolas,'Courier New',monospace\"><span style=\"font-weight: bold\"> Trainable params: </span><span style=\"color: #00af00; text-decoration-color: #00af00\">580,501</span> (2.21 MB)\n",
       "</pre>\n"
      ],
      "text/plain": [
       "\u001b[1m Trainable params: \u001b[0m\u001b[38;5;34m580,501\u001b[0m (2.21 MB)\n"
      ]
     },
     "metadata": {},
     "output_type": "display_data"
    },
    {
     "data": {
      "text/html": [
       "<pre style=\"white-space:pre;overflow-x:auto;line-height:normal;font-family:Menlo,'DejaVu Sans Mono',consolas,'Courier New',monospace\"><span style=\"font-weight: bold\"> Non-trainable params: </span><span style=\"color: #00af00; text-decoration-color: #00af00\">0</span> (0.00 B)\n",
       "</pre>\n"
      ],
      "text/plain": [
       "\u001b[1m Non-trainable params: \u001b[0m\u001b[38;5;34m0\u001b[0m (0.00 B)\n"
      ]
     },
     "metadata": {},
     "output_type": "display_data"
    }
   ],
   "source": [
    "model = Sequential([\n",
    "    Embedding(max_words, 100, input_length=max_len),\n",
    "    SpatialDropout1D(0.2),\n",
    "    LSTM(100, dropout=0.2, recurrent_dropout=0.2),\n",
    "    Dense(1, activation='sigmoid')\n",
    "])\n",
    "model.compile(\n",
    "    loss='binary_crossentropy',\n",
    "    optimizer='adam',\n",
    "    metrics=[\n",
    "        BinaryAccuracy(name='accuracy'),\n",
    "        Precision(name='precision'),\n",
    "        Recall(name='recall'),\n",
    "    ]\n",
    ")\n",
    "model.build(input_shape=(None, max_len))\n",
    "model.summary()"
   ]
  },
  {
   "cell_type": "markdown",
   "id": "4b2e838d",
   "metadata": {
    "papermill": {
     "duration": 0.010897,
     "end_time": "2025-04-28T22:37:53.778025",
     "exception": false,
     "start_time": "2025-04-28T22:37:53.767128",
     "status": "completed"
    },
    "tags": []
   },
   "source": [
    "# Entraînement"
   ]
  },
  {
   "cell_type": "code",
   "execution_count": 19,
   "id": "edee9ccd",
   "metadata": {
    "execution": {
     "iopub.execute_input": "2025-04-28T22:37:53.801877Z",
     "iopub.status.busy": "2025-04-28T22:37:53.801519Z",
     "iopub.status.idle": "2025-04-28T22:55:29.646875Z",
     "shell.execute_reply": "2025-04-28T22:55:29.645791Z"
    },
    "papermill": {
     "duration": 1056.09319,
     "end_time": "2025-04-28T22:55:29.882626",
     "exception": false,
     "start_time": "2025-04-28T22:37:53.789436",
     "status": "completed"
    },
    "tags": []
   },
   "outputs": [
    {
     "name": "stdout",
     "output_type": "stream",
     "text": [
      "Epoch 1/5\n",
      "\u001b[1m902/902\u001b[0m \u001b[32m━━━━━━━━━━━━━━━━━━━━\u001b[0m\u001b[37m\u001b[0m \u001b[1m220s\u001b[0m 239ms/step - accuracy: 0.7211 - loss: 0.5407 - precision: 0.7212 - recall: 0.7560 - val_accuracy: 0.8511 - val_loss: 0.3690 - val_precision: 0.9039 - val_recall: 0.7947\n",
      "Epoch 2/5\n",
      "\u001b[1m902/902\u001b[0m \u001b[32m━━━━━━━━━━━━━━━━━━━━\u001b[0m\u001b[37m\u001b[0m \u001b[1m211s\u001b[0m 234ms/step - accuracy: 0.8617 - loss: 0.3531 - precision: 0.8663 - recall: 0.8648 - val_accuracy: 0.9094 - val_loss: 0.2694 - val_precision: 0.8967 - val_recall: 0.9308\n",
      "Epoch 3/5\n",
      "\u001b[1m902/902\u001b[0m \u001b[32m━━━━━━━━━━━━━━━━━━━━\u001b[0m\u001b[37m\u001b[0m \u001b[1m214s\u001b[0m 237ms/step - accuracy: 0.9199 - loss: 0.2235 - precision: 0.9154 - recall: 0.9304 - val_accuracy: 0.9424 - val_loss: 0.1560 - val_precision: 0.9374 - val_recall: 0.9514\n",
      "Epoch 4/5\n",
      "\u001b[1m902/902\u001b[0m \u001b[32m━━━━━━━━━━━━━━━━━━━━\u001b[0m\u001b[37m\u001b[0m \u001b[1m205s\u001b[0m 228ms/step - accuracy: 0.9499 - loss: 0.1389 - precision: 0.9458 - recall: 0.9574 - val_accuracy: 0.9512 - val_loss: 0.1295 - val_precision: 0.9442 - val_recall: 0.9618\n",
      "Epoch 5/5\n",
      "\u001b[1m902/902\u001b[0m \u001b[32m━━━━━━━━━━━━━━━━━━━━\u001b[0m\u001b[37m\u001b[0m \u001b[1m206s\u001b[0m 228ms/step - accuracy: 0.9615 - loss: 0.1072 - precision: 0.9579 - recall: 0.9677 - val_accuracy: 0.9552 - val_loss: 0.1203 - val_precision: 0.9506 - val_recall: 0.9629\n"
     ]
    }
   ],
   "source": [
    "early_stopping = EarlyStopping(\n",
    "                monitor='val_loss', \n",
    "                patience=3, \n",
    "                restore_best_weights=True\n",
    "            )\n",
    "\n",
    "history = model.fit(\n",
    "    X_train, y_train, \n",
    "    epochs=5, \n",
    "    batch_size=64, \n",
    "    validation_data=(X_test, y_test), \n",
    "    callbacks=[early_stopping]\n",
    ")"
   ]
  },
  {
   "cell_type": "markdown",
   "id": "62805f38",
   "metadata": {
    "papermill": {
     "duration": 0.316737,
     "end_time": "2025-04-28T22:55:30.446118",
     "exception": false,
     "start_time": "2025-04-28T22:55:30.129381",
     "status": "completed"
    },
    "tags": []
   },
   "source": [
    "# Visualiser l'architecture et sauvegarder le diagramme"
   ]
  },
  {
   "cell_type": "code",
   "execution_count": 20,
   "id": "e33fd66e",
   "metadata": {
    "execution": {
     "iopub.execute_input": "2025-04-28T22:55:30.947081Z",
     "iopub.status.busy": "2025-04-28T22:55:30.946609Z",
     "iopub.status.idle": "2025-04-28T22:55:31.144109Z",
     "shell.execute_reply": "2025-04-28T22:55:31.143142Z"
    },
    "papermill": {
     "duration": 0.445785,
     "end_time": "2025-04-28T22:55:31.145644",
     "exception": false,
     "start_time": "2025-04-28T22:55:30.699859",
     "status": "completed"
    },
    "tags": []
   },
   "outputs": [
    {
     "data": {
      "image/png": "[encoded data removed]",
      "text/plain": [
       "<IPython.core.display.Image object>"
      ]
     },
     "execution_count": 20,
     "metadata": {},
     "output_type": "execute_result"
    }
   ],
   "source": [
    "plot_model(\n",
    "    model,\n",
    "    to_file='model_architecture.png',\n",
    "    show_shapes=True,          # Affiche les formes des tenseurs (e.g., (None, 200, 100))\n",
    "    show_layer_names=True,     # Affiche les noms des couches\n",
    "    show_dtype=False,          # Ne pas afficher les types de données\n",
    "    show_layer_activations=True,  # Affiche les fonctions d'activation\n",
    "    dpi=96                    # Résolution de l'image\n",
    ")\n",
    "\n",
    "from IPython.display import Image\n",
    "Image('model_architecture.png')"
   ]
  },
  {
   "cell_type": "markdown",
   "id": "90f29f0c",
   "metadata": {
    "papermill": {
     "duration": 0.249438,
     "end_time": "2025-04-28T22:55:31.646674",
     "exception": false,
     "start_time": "2025-04-28T22:55:31.397236",
     "status": "completed"
    },
    "tags": []
   },
   "source": [
    "# Métriques de performance"
   ]
  },
  {
   "cell_type": "code",
   "execution_count": 21,
   "id": "ebdecfeb",
   "metadata": {
    "execution": {
     "iopub.execute_input": "2025-04-28T22:55:32.142103Z",
     "iopub.status.busy": "2025-04-28T22:55:32.141660Z",
     "iopub.status.idle": "2025-04-28T22:55:53.064611Z",
     "shell.execute_reply": "2025-04-28T22:55:53.063668Z"
    },
    "papermill": {
     "duration": 21.17615,
     "end_time": "2025-04-28T22:55:53.066102",
     "exception": false,
     "start_time": "2025-04-28T22:55:31.889952",
     "status": "completed"
    },
    "tags": []
   },
   "outputs": [
    {
     "name": "stdout",
     "output_type": "stream",
     "text": [
      "\u001b[1m451/451\u001b[0m \u001b[32m━━━━━━━━━━━━━━━━━━━━\u001b[0m\u001b[37m\u001b[0m \u001b[1m21s\u001b[0m 45ms/step\n",
      "Accuracy: 0.9552\n",
      "Precision: 0.9506\n",
      "Recall: 0.9629\n",
      "F1-Score: 0.9567\n"
     ]
    }
   ],
   "source": [
    "\n",
    "from sklearn.metrics import accuracy_score, precision_recall_fscore_support, confusion_matrix\n",
    "\n",
    "y_pred = (model.predict(X_test) > 0.5).astype(\"int32\")\n",
    "accuracy = accuracy_score(y_test, y_pred)\n",
    "precision, recall, f1, _ = precision_recall_fscore_support(y_test, y_pred, average='binary')\n",
    "\n",
    "print(f\"Accuracy: {accuracy:.4f}\")\n",
    "print(f\"Precision: {precision:.4f}\")\n",
    "print(f\"Recall: {recall:.4f}\")\n",
    "print(f\"F1-Score: {f1:.4f}\")\n",
    "\n",
    "\n"
   ]
  },
  {
   "cell_type": "markdown",
   "id": "1bb8f03b",
   "metadata": {
    "papermill": {
     "duration": 0.332291,
     "end_time": "2025-04-28T22:55:53.659088",
     "exception": false,
     "start_time": "2025-04-28T22:55:53.326797",
     "status": "completed"
    },
    "tags": []
   },
   "source": [
    "# Matrice de confusion"
   ]
  },
  {
   "cell_type": "code",
   "execution_count": 22,
   "id": "7b9d7828",
   "metadata": {
    "execution": {
     "iopub.execute_input": "2025-04-28T22:55:54.192107Z",
     "iopub.status.busy": "2025-04-28T22:55:54.191677Z",
     "iopub.status.idle": "2025-04-28T22:55:54.483869Z",
     "shell.execute_reply": "2025-04-28T22:55:54.483003Z"
    },
    "papermill": {
     "duration": 0.568786,
     "end_time": "2025-04-28T22:55:54.485501",
     "exception": false,
     "start_time": "2025-04-28T22:55:53.916715",
     "status": "completed"
    },
    "tags": []
   },
   "outputs": [
    {
     "data": {
      "image/png": "[encoded data removed]",
      "text/plain": [
       "<Figure size 800x600 with 2 Axes>"
      ]
     },
     "metadata": {},
     "output_type": "display_data"
    }
   ],
   "source": [
    "cm = confusion_matrix(y_test, y_pred)\n",
    "plt.figure(figsize=(8, 6))\n",
    "sns.heatmap(cm, annot=True, fmt='d', cmap='Blues', xticklabels=['Real', 'Fake'], yticklabels=['Real', 'Fake'])\n",
    "plt.title('Matrice de confusion')\n",
    "plt.xlabel('Prédiction')\n",
    "plt.ylabel('Vérité')\n",
    "plt.savefig('confusion_matrix.png')\n",
    "plt.show()"
   ]
  },
  {
   "cell_type": "markdown",
   "id": "a3c7ca50",
   "metadata": {
    "papermill": {
     "duration": 0.259282,
     "end_time": "2025-04-28T22:55:55.004914",
     "exception": false,
     "start_time": "2025-04-28T22:55:54.745632",
     "status": "completed"
    },
    "tags": []
   },
   "source": [
    "# Visualisation de l'entraînement"
   ]
  },
  {
   "cell_type": "code",
   "execution_count": 23,
   "id": "40cd2401",
   "metadata": {
    "execution": {
     "iopub.execute_input": "2025-04-28T22:55:55.601527Z",
     "iopub.status.busy": "2025-04-28T22:55:55.601177Z",
     "iopub.status.idle": "2025-04-28T22:55:56.393276Z",
     "shell.execute_reply": "2025-04-28T22:55:56.392277Z"
    },
    "papermill": {
     "duration": 1.132712,
     "end_time": "2025-04-28T22:55:56.394823",
     "exception": false,
     "start_time": "2025-04-28T22:55:55.262111",
     "status": "completed"
    },
    "tags": []
   },
   "outputs": [
    {
     "data": {
      "image/png": "[encoded data removed]",
      "text/plain": [
       "<Figure size 1200x400 with 2 Axes>"
      ]
     },
     "metadata": {},
     "output_type": "display_data"
    }
   ],
   "source": [
    "\n",
    "plt.figure(figsize=(12, 4))\n",
    "\n",
    "# Précision\n",
    "plt.subplot(1, 2, 1)\n",
    "plt.plot(history.history['accuracy'], label='Précision (entraînement)')\n",
    "plt.plot(history.history['val_accuracy'], label='Précision (validation)')\n",
    "plt.title('Précision au fil des époques')\n",
    "plt.xlabel('Époque')\n",
    "plt.ylabel('Précision')\n",
    "plt.legend()\n",
    "\n",
    "# Perte\n",
    "plt.subplot(1, 2, 2)\n",
    "plt.plot(history.history['loss'], label='Perte (entraînement)')\n",
    "plt.plot(history.history['val_loss'], label='Perte (validation)')\n",
    "plt.title('Perte au fil des époques')\n",
    "plt.xlabel('Époque')\n",
    "plt.ylabel('Perte')\n",
    "plt.legend()\n",
    "\n",
    "plt.tight_layout()\n",
    "plt.savefig('training_history.png')\n",
    "plt.show()"
   ]
  },
  {
   "cell_type": "markdown",
   "id": "e93568cf",
   "metadata": {
    "papermill": {
     "duration": 0.259478,
     "end_time": "2025-04-28T22:55:56.918506",
     "exception": false,
     "start_time": "2025-04-28T22:55:56.659028",
     "status": "completed"
    },
    "tags": []
   },
   "source": [
    "# Sauvegarder au format HDF5"
   ]
  },
  {
   "cell_type": "code",
   "execution_count": 24,
   "id": "630b5b16",
   "metadata": {
    "execution": {
     "iopub.execute_input": "2025-04-28T22:55:57.438079Z",
     "iopub.status.busy": "2025-04-28T22:55:57.437717Z",
     "iopub.status.idle": "2025-04-28T22:55:57.973129Z",
     "shell.execute_reply": "2025-04-28T22:55:57.972094Z"
    },
    "papermill": {
     "duration": 0.800412,
     "end_time": "2025-04-28T22:55:57.974823",
     "exception": false,
     "start_time": "2025-04-28T22:55:57.174411",
     "status": "completed"
    },
    "tags": []
   },
   "outputs": [],
   "source": [
    "\n",
    "import pickle\n",
    "\n",
    "model.save('lstm-last-5.h5') \n",
    "\n",
    "\n",
    "\n",
    "with open('tokenizer-last-5.pickle', 'wb') as handle:\n",
    "    pickle.dump(tokenizer, handle, protocol=pickle.HIGHEST_PROTOCOL)\n"
   ]
  },
  {
   "cell_type": "code",
   "execution_count": null,
   "id": "6f475d37",
   "metadata": {
    "papermill": {
     "duration": 0.261064,
     "end_time": "2025-04-28T22:55:58.570506",
     "exception": false,
     "start_time": "2025-04-28T22:55:58.309442",
     "status": "completed"
    },
    "tags": []
   },
   "outputs": [],
   "source": []
  }
 ],
 "metadata": {
  "kaggle": {
   "accelerator": "none",
   "dataSources": [],
   "dockerImageVersionId": 31011,
   "isGpuEnabled": false,
   "isInternetEnabled": true,
   "language": "python",
   "sourceType": "notebook"
  },
  "kernelspec": {
   "display_name": "Python 3",
   "language": "python",
   "name": "python3"
  },
  "language_info": {
   "codemirror_mode": {
    "name": "ipython",
    "version": 3
   },
   "file_extension": ".py",
   "mimetype": "text/x-python",
   "name": "python",
   "nbconvert_exporter": "python",
   "pygments_lexer": "ipython3",
   "version": "3.11.11"
  },
  "papermill": {
   "default_parameters": {},
   "duration": 2293.890455,
   "end_time": "2025-04-28T22:56:02.009876",
   "environment_variables": {},
   "exception": null,
   "input_path": "__notebook__.ipynb",
   "output_path": "__notebook__.ipynb",
   "parameters": {},
   "start_time": "2025-04-28T22:17:48.119421",
   "version": "2.6.0"
  }
 },
 "nbformat": 4,
 "nbformat_minor": 5
}
